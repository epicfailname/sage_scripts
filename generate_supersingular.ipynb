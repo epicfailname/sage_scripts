{
 "cells": [
  {
   "cell_type": "code",
   "execution_count": 73,
   "metadata": {},
   "outputs": [],
   "source": [
    "def to_hex_64chunks(t):\n",
    "    res = []\n",
    "    while t > 0:\n",
    "        res.append(t % 2^64)\n",
    "        t = t >> 64\n",
    "    \n",
    "    res = [hex(chunk).upper().replace('X', 'x') for chunk in res]\n",
    "    res_string = '{' + ', '.join(res) + '}'\n",
    "    return res_string\n",
    "\n",
    "def print_prime_details(pow_2, pow_3, cofactor, bits):\n",
    "    print('p = 2^{} * 3^{} * {} - 1'.format(pow_2, pow_3, cofactor))\n",
    "    p = 2^pow_2 * 3^pow_3 * cofactor - 1\n",
    "\n",
    "    \n",
    "    print('p bits = {}'.format(math.log(p, 2)))\n",
    "\n",
    "    print('prime')\n",
    "    temp = p\n",
    "    print(to_hex_64chunks(temp))\n",
    "\n",
    "    print('primeplus1')\n",
    "    temp = int(1 + p)\n",
    "    print(to_hex_64chunks(temp))\n",
    "        \n",
    "    print('prime*2')\n",
    "    temp = p * 2\n",
    "    print(to_hex_64chunks(temp))\n",
    "    \n",
    "    print('Mont prime_inv mod R')\n",
    "    R = IntegerModRing(2^(bits))\n",
    "    temp = R(p)\n",
    "    temp = temp^-1\n",
    "    temp = -1 * temp\n",
    "    temp = int(temp)\n",
    "    print(to_hex_64chunks(temp))\n",
    "\n",
    "    P = IntegerModRing(p)\n",
    "    R2 = 2^(bits * 2)\n",
    "    print('Mont R^2 mod prime')\n",
    "    temp = P(R2)\n",
    "    temp = int(temp)\n",
    "    print(to_hex_64chunks(temp))\n",
    "\n",
    "    print('Mont R mod prime')\n",
    "    R = 2^(bits)\n",
    "    temp = P(R)\n",
    "    temp = int(temp)\n",
    "    print(to_hex_64chunks(temp))\n",
    "\n",
    "def check_supersingular(p):\n",
    "    F = GF(p^1, 'a') # Note; not using GF(p^2) because of a limitation in Sage\n",
    "    print(F)\n",
    "    A = F(6)\n",
    "    B = F(1)\n",
    "    C = F(1)\n",
    "    S = B^1 * (1 - A^2/3)\n",
    "    T = B^3 * A / 3 * (2*A^2/9 - 1)\n",
    "    E = EllipticCurve(F, [S, T]) # v^2 = u^3 + (B^2(1 - A^2/3))u + B^3 * A / 3(2A^2/9 - 1)\n",
    "    print(E)\n",
    "    return E.is_supersingular()"
   ]
  },
  {
   "cell_type": "code",
   "execution_count": 74,
   "metadata": {},
   "outputs": [
    {
     "name": "stdout",
     "output_type": "stream",
     "text": [
      "Finite Field of size 24439423661345221551909145011457493619085780243761596511325807336205221239331976725970216671828618445898719026692884939342314733567\n",
      "Elliptic Curve defined by y^2 = x^3 + 24439423661345221551909145011457493619085780243761596511325807336205221239331976725970216671828618445898719026692884939342314733556*x + 14 over Finite Field of size 24439423661345221551909145011457493619085780243761596511325807336205221239331976725970216671828618445898719026692884939342314733567\n"
     ]
    },
    {
     "data": {
      "text/plain": [
       "True"
      ]
     },
     "execution_count": 74,
     "metadata": {},
     "output_type": "execute_result"
    }
   ],
   "source": [
    "lA, lB = 2, 3\n",
    "eA, eB = 216, 137 # p434 = 2^216*3^137-1\n",
    "p = lA ^ eA * lB ^ eB - 1\n",
    "assert p.is_prime()\n",
    "assert p % 4 == 3 # Necessary for below curve to be supersingular.\n",
    "check_supersingular(p)"
   ]
  },
  {
   "cell_type": "code",
   "execution_count": 75,
   "metadata": {},
   "outputs": [
    {
     "name": "stdout",
     "output_type": "stream",
     "text": [
      "Finite Field of size 17915903\n",
      "Elliptic Curve defined by y^2 = x^3 + 17915892*x + 14 over Finite Field of size 17915903\n",
      "p = 2^13 * 3^7 * 1 - 1\n",
      "p bits = 24.094737424522148\n",
      "prime\n",
      "{0x1115FFF}\n",
      "primeplus1\n",
      "{0x1116000}\n",
      "prime*2\n",
      "{0x222BFFE}\n",
      "Mont prime_inv mod R\n",
      "{0xB13A7D6DE5116001}\n",
      "Mont R^2 mod prime\n",
      "{0x6B7757}\n",
      "Mont R mod prime\n",
      "{0xE6C873}\n",
      "\n",
      "Finite Field of size 214990847\n",
      "Elliptic Curve defined by y^2 = x^3 + 214990836*x + 14 over Finite Field of size 214990847\n",
      "p = 2^15 * 3^8 * 1 - 1\n",
      "p bits = 27.679699999058755\n",
      "prime\n",
      "{0xCD07FFF}\n",
      "primeplus1\n",
      "{0xCD08000}\n",
      "prime*2\n",
      "{0x19A0FFFE}\n",
      "Mont prime_inv mod R\n",
      "{0xA7C055D04CD08001}\n",
      "Mont R^2 mod prime\n",
      "{0x2626A4D}\n",
      "Mont R mod prime\n",
      "{0x7582CE3}\n",
      "\n",
      "Finite Field of size 60183678025727\n",
      "Elliptic Curve defined by y^2 = x^3 + 60183678025716*x + 14 over Finite Field of size 60183678025727\n",
      "p = 2^22 * 3^15 * 1 - 1\n",
      "p bits = 45.77443751081732\n",
      "prime\n",
      "{0x36BC9ABFFFFF}\n",
      "primeplus1\n",
      "{0x36BC9AC00000}\n",
      "prime*2\n",
      "{0x6D79357FFFFE}\n",
      "Mont prime_inv mod R\n",
      "{0xA78BC6BC9AC00001}\n",
      "Mont R^2 mod prime\n",
      "{0x25512E2FF61A}\n",
      "Mont R mod prime\n",
      "{0x172AE9C4AD4B}\n",
      "\n"
     ]
    }
   ],
   "source": [
    "BITS = 64\n",
    "log3_2 = math.log(2, 3)\n",
    "for pow_2 in range(10, 32):\n",
    "    for pow_3 in range(math.floor(log3_2 * pow_2) - 5, math.floor(log3_2 * pow_2) + 5):\n",
    "        if is_prime(2^pow_2 * 3^pow_3 - 1):\n",
    "            if 1/5 <= 2^pow_2 /  3^pow_3 <= 5/1:\n",
    "                p = 2^pow_2 * 3^pow_3 - 1\n",
    "                if check_supersingular(p):\n",
    "                    print_prime_details(pow_2, pow_3, 1, BITS)\n",
    "                    print('')\n",
    "#print_prime_details(32, 20, 23, 128)"
   ]
  }
 ],
 "metadata": {
  "interpreter": {
   "hash": "63fd5069d213b44bf678585dea6b12cceca9941eaf7f819626cde1f2670de90d"
  },
  "kernelspec": {
   "display_name": "SageMath 9.2 for VSCode",
   "language": "python",
   "name": "sagemath-vscode"
  },
  "language_info": {
   "codemirror_mode": {
    "name": "ipython",
    "version": 3
   },
   "file_extension": ".py",
   "mimetype": "text/x-python",
   "name": "python",
   "nbconvert_exporter": "python",
   "pygments_lexer": "ipython3",
   "version": "3.7.7"
  }
 },
 "nbformat": 4,
 "nbformat_minor": 4
}
